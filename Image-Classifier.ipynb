{
 "cells": [
  {
   "cell_type": "code",
   "execution_count": 2,
   "id": "b3fea4c6",
   "metadata": {},
   "outputs": [
    {
     "name": "stdout",
     "output_type": "stream",
     "text": [
      "Requirement already satisfied: gradio in c:\\anaconda\\lib\\site-packages (3.39.0)Note: you may need to restart the kernel to use updated packages.\n",
      "\n",
      "Requirement already satisfied: pandas<3.0,>=1.0 in c:\\anaconda\\lib\\site-packages (from gradio) (1.4.4)\n",
      "Requirement already satisfied: matplotlib~=3.0 in c:\\anaconda\\lib\\site-packages (from gradio) (3.5.2)\n",
      "Requirement already satisfied: pydub in c:\\anaconda\\lib\\site-packages (from gradio) (0.25.1)\n",
      "Requirement already satisfied: pillow<11.0,>=8.0 in c:\\anaconda\\lib\\site-packages (from gradio) (9.2.0)\n",
      "Requirement already satisfied: pyyaml<7.0,>=5.0 in c:\\anaconda\\lib\\site-packages (from gradio) (6.0)\n",
      "Requirement already satisfied: websockets<12.0,>=10.0 in c:\\anaconda\\lib\\site-packages (from gradio) (11.0.3)\n",
      "Requirement already satisfied: httpx in c:\\anaconda\\lib\\site-packages (from gradio) (0.24.1)\n",
      "Requirement already satisfied: altair<6.0,>=4.2.0 in c:\\anaconda\\lib\\site-packages (from gradio) (5.0.1)\n",
      "Requirement already satisfied: python-multipart in c:\\anaconda\\lib\\site-packages (from gradio) (0.0.6)\n",
      "Requirement already satisfied: semantic-version~=2.0 in c:\\anaconda\\lib\\site-packages (from gradio) (2.10.0)\n",
      "Requirement already satisfied: mdit-py-plugins<=0.3.3 in c:\\anaconda\\lib\\site-packages (from gradio) (0.3.3)\n",
      "Requirement already satisfied: fastapi in c:\\anaconda\\lib\\site-packages (from gradio) (0.100.1)\n",
      "Requirement already satisfied: markdown-it-py[linkify]>=2.0.0 in c:\\anaconda\\lib\\site-packages (from gradio) (2.2.0)\n",
      "Requirement already satisfied: aiohttp~=3.0 in c:\\anaconda\\lib\\site-packages (from gradio) (3.8.5)\n",
      "Requirement already satisfied: ffmpy in c:\\anaconda\\lib\\site-packages (from gradio) (0.3.1)\n",
      "Requirement already satisfied: pydantic!=1.8,!=1.8.1,!=2.0.0,!=2.0.1,<3.0.0,>=1.7.4 in c:\\anaconda\\lib\\site-packages (from gradio) (2.1.1)\n",
      "Requirement already satisfied: huggingface-hub>=0.14.0 in c:\\anaconda\\lib\\site-packages (from gradio) (0.16.4)\n",
      "Requirement already satisfied: numpy~=1.0 in c:\\anaconda\\lib\\site-packages (from gradio) (1.21.5)\n",
      "Requirement already satisfied: markupsafe~=2.0 in c:\\anaconda\\lib\\site-packages (from gradio) (2.0.1)\n",
      "Requirement already satisfied: gradio-client>=0.3.0 in c:\\anaconda\\lib\\site-packages (from gradio) (0.3.0)\n",
      "Requirement already satisfied: aiofiles<24.0,>=22.0 in c:\\anaconda\\lib\\site-packages (from gradio) (23.1.0)\n",
      "Requirement already satisfied: typing-extensions~=4.0 in c:\\anaconda\\lib\\site-packages (from gradio) (4.7.1)\n",
      "Requirement already satisfied: orjson~=3.0 in c:\\anaconda\\lib\\site-packages (from gradio) (3.9.2)\n",
      "Requirement already satisfied: uvicorn>=0.14.0 in c:\\anaconda\\lib\\site-packages (from gradio) (0.23.1)\n",
      "Requirement already satisfied: packaging in c:\\anaconda\\lib\\site-packages (from gradio) (21.3)\n",
      "Requirement already satisfied: jinja2<4.0 in c:\\anaconda\\lib\\site-packages (from gradio) (2.11.3)\n",
      "Requirement already satisfied: requests~=2.0 in c:\\anaconda\\lib\\site-packages (from gradio) (2.28.1)\n",
      "Requirement already satisfied: frozenlist>=1.1.1 in c:\\anaconda\\lib\\site-packages (from aiohttp~=3.0->gradio) (1.4.0)\n",
      "Requirement already satisfied: charset-normalizer<4.0,>=2.0 in c:\\anaconda\\lib\\site-packages (from aiohttp~=3.0->gradio) (2.0.4)\n",
      "Requirement already satisfied: async-timeout<5.0,>=4.0.0a3 in c:\\anaconda\\lib\\site-packages (from aiohttp~=3.0->gradio) (4.0.2)\n",
      "Requirement already satisfied: attrs>=17.3.0 in c:\\anaconda\\lib\\site-packages (from aiohttp~=3.0->gradio) (21.4.0)\n",
      "Requirement already satisfied: aiosignal>=1.1.2 in c:\\anaconda\\lib\\site-packages (from aiohttp~=3.0->gradio) (1.3.1)\n",
      "Requirement already satisfied: multidict<7.0,>=4.5 in c:\\anaconda\\lib\\site-packages (from aiohttp~=3.0->gradio) (6.0.4)\n",
      "Requirement already satisfied: yarl<2.0,>=1.0 in c:\\anaconda\\lib\\site-packages (from aiohttp~=3.0->gradio) (1.9.2)\n",
      "Requirement already satisfied: jsonschema>=3.0 in c:\\anaconda\\lib\\site-packages (from altair<6.0,>=4.2.0->gradio) (4.16.0)\n",
      "Requirement already satisfied: toolz in c:\\anaconda\\lib\\site-packages (from altair<6.0,>=4.2.0->gradio) (0.11.2)\n",
      "Requirement already satisfied: fsspec in c:\\anaconda\\lib\\site-packages (from gradio-client>=0.3.0->gradio) (2022.7.1)\n",
      "Requirement already satisfied: filelock in c:\\anaconda\\lib\\site-packages (from huggingface-hub>=0.14.0->gradio) (3.6.0)\n",
      "Requirement already satisfied: tqdm>=4.42.1 in c:\\anaconda\\lib\\site-packages (from huggingface-hub>=0.14.0->gradio) (4.64.1)\n",
      "Requirement already satisfied: mdurl~=0.1 in c:\\anaconda\\lib\\site-packages (from markdown-it-py[linkify]>=2.0.0->gradio) (0.1.2)\n",
      "Requirement already satisfied: linkify-it-py<3,>=1 in c:\\anaconda\\lib\\site-packages (from markdown-it-py[linkify]>=2.0.0->gradio) (2.0.2)\n",
      "Requirement already satisfied: fonttools>=4.22.0 in c:\\anaconda\\lib\\site-packages (from matplotlib~=3.0->gradio) (4.25.0)\n",
      "Requirement already satisfied: kiwisolver>=1.0.1 in c:\\anaconda\\lib\\site-packages (from matplotlib~=3.0->gradio) (1.4.2)\n",
      "Requirement already satisfied: python-dateutil>=2.7 in c:\\anaconda\\lib\\site-packages (from matplotlib~=3.0->gradio) (2.8.2)\n",
      "Requirement already satisfied: cycler>=0.10 in c:\\anaconda\\lib\\site-packages (from matplotlib~=3.0->gradio) (0.11.0)\n",
      "Requirement already satisfied: pyparsing>=2.2.1 in c:\\anaconda\\lib\\site-packages (from matplotlib~=3.0->gradio) (3.0.9)\n",
      "Requirement already satisfied: pytz>=2020.1 in c:\\anaconda\\lib\\site-packages (from pandas<3.0,>=1.0->gradio) (2022.1)\n",
      "Requirement already satisfied: annotated-types>=0.4.0 in c:\\anaconda\\lib\\site-packages (from pydantic!=1.8,!=1.8.1,!=2.0.0,!=2.0.1,<3.0.0,>=1.7.4->gradio) (0.5.0)\n",
      "Requirement already satisfied: pydantic-core==2.4.0 in c:\\anaconda\\lib\\site-packages (from pydantic!=1.8,!=1.8.1,!=2.0.0,!=2.0.1,<3.0.0,>=1.7.4->gradio) (2.4.0)\n",
      "Requirement already satisfied: idna<4,>=2.5 in c:\\anaconda\\lib\\site-packages (from requests~=2.0->gradio) (3.3)\n",
      "Requirement already satisfied: urllib3<1.27,>=1.21.1 in c:\\anaconda\\lib\\site-packages (from requests~=2.0->gradio) (1.26.11)\n",
      "Requirement already satisfied: certifi>=2017.4.17 in c:\\anaconda\\lib\\site-packages (from requests~=2.0->gradio) (2022.9.14)\n",
      "Requirement already satisfied: click>=7.0 in c:\\anaconda\\lib\\site-packages (from uvicorn>=0.14.0->gradio) (8.0.4)\n",
      "Requirement already satisfied: h11>=0.8 in c:\\anaconda\\lib\\site-packages (from uvicorn>=0.14.0->gradio) (0.14.0)\n",
      "Requirement already satisfied: starlette<0.28.0,>=0.27.0 in c:\\anaconda\\lib\\site-packages (from fastapi->gradio) (0.27.0)\n",
      "Requirement already satisfied: httpcore<0.18.0,>=0.15.0 in c:\\anaconda\\lib\\site-packages (from httpx->gradio) (0.17.3)\n",
      "Requirement already satisfied: sniffio in c:\\anaconda\\lib\\site-packages (from httpx->gradio) (1.2.0)\n",
      "Requirement already satisfied: colorama in c:\\anaconda\\lib\\site-packages (from click>=7.0->uvicorn>=0.14.0->gradio) (0.4.5)\n",
      "Requirement already satisfied: anyio<5.0,>=3.0 in c:\\anaconda\\lib\\site-packages (from httpcore<0.18.0,>=0.15.0->httpx->gradio) (3.5.0)\n",
      "Requirement already satisfied: pyrsistent!=0.17.0,!=0.17.1,!=0.17.2,>=0.14.0 in c:\\anaconda\\lib\\site-packages (from jsonschema>=3.0->altair<6.0,>=4.2.0->gradio) (0.18.0)\n",
      "Requirement already satisfied: uc-micro-py in c:\\anaconda\\lib\\site-packages (from linkify-it-py<3,>=1->markdown-it-py[linkify]>=2.0.0->gradio) (1.0.2)\n",
      "Requirement already satisfied: six>=1.5 in c:\\anaconda\\lib\\site-packages (from python-dateutil>=2.7->matplotlib~=3.0->gradio) (1.16.0)\n"
     ]
    }
   ],
   "source": [
    "pip install gradio\n"
   ]
  },
  {
   "cell_type": "code",
   "execution_count": 1,
   "id": "6660b0fa",
   "metadata": {},
   "outputs": [
    {
     "name": "stdout",
     "output_type": "stream",
     "text": [
      "Epoch 1/10\n",
      "1563/1563 [==============================] - 31s 19ms/step - loss: 1.4674 - accuracy: 0.4727 - val_loss: 1.1818 - val_accuracy: 0.5932\n",
      "Epoch 2/10\n",
      "1563/1563 [==============================] - 37s 24ms/step - loss: 1.1102 - accuracy: 0.6105 - val_loss: 1.0266 - val_accuracy: 0.6416\n",
      "Epoch 3/10\n",
      "1563/1563 [==============================] - 39s 25ms/step - loss: 0.9824 - accuracy: 0.6591 - val_loss: 0.9719 - val_accuracy: 0.6626\n",
      "Epoch 4/10\n",
      "1563/1563 [==============================] - 36s 23ms/step - loss: 0.8941 - accuracy: 0.6882 - val_loss: 0.9962 - val_accuracy: 0.6558\n",
      "Epoch 5/10\n",
      "1563/1563 [==============================] - 35s 22ms/step - loss: 0.8281 - accuracy: 0.7133 - val_loss: 0.9095 - val_accuracy: 0.6944\n",
      "Epoch 6/10\n",
      "1563/1563 [==============================] - 35s 23ms/step - loss: 0.7732 - accuracy: 0.7325 - val_loss: 0.9064 - val_accuracy: 0.6940\n",
      "Epoch 7/10\n",
      "1563/1563 [==============================] - 36s 23ms/step - loss: 0.7206 - accuracy: 0.7500 - val_loss: 0.9292 - val_accuracy: 0.6878\n",
      "Epoch 8/10\n",
      "1563/1563 [==============================] - 47s 30ms/step - loss: 0.6754 - accuracy: 0.7642 - val_loss: 0.9155 - val_accuracy: 0.7037\n",
      "Epoch 9/10\n",
      "1563/1563 [==============================] - 47s 30ms/step - loss: 0.6359 - accuracy: 0.7788 - val_loss: 0.8826 - val_accuracy: 0.7084\n",
      "Epoch 10/10\n",
      "1563/1563 [==============================] - 42s 27ms/step - loss: 0.5978 - accuracy: 0.7904 - val_loss: 0.9252 - val_accuracy: 0.6976\n"
     ]
    },
    {
     "name": "stderr",
     "output_type": "stream",
     "text": [
      "C:\\Users\\gvdiw\\AppData\\Local\\Temp\\ipykernel_10416\\3494781183.py:52: GradioDeprecationWarning: Usage of gradio.inputs is deprecated, and will not be supported in the future, please import your component from gradio.components\n",
      "  inputs=gr.inputs.Image(shape=(32, 32)),\n",
      "C:\\Users\\gvdiw\\AppData\\Local\\Temp\\ipykernel_10416\\3494781183.py:52: GradioDeprecationWarning: `optional` parameter is deprecated, and it has no effect\n",
      "  inputs=gr.inputs.Image(shape=(32, 32)),\n",
      "C:\\Users\\gvdiw\\AppData\\Local\\Temp\\ipykernel_10416\\3494781183.py:53: GradioDeprecationWarning: Usage of gradio.outputs is deprecated, and will not be supported in the future, please import your components from gradio.components\n",
      "  outputs=gr.outputs.Textbox(),\n"
     ]
    },
    {
     "name": "stdout",
     "output_type": "stream",
     "text": [
      "Running on local URL:  http://127.0.0.1:7860\n",
      "IMPORTANT: You are using gradio version 3.39.0, however version 4.29.0 is available, please upgrade.\n",
      "--------\n",
      "\n",
      "To create a public link, set `share=True` in `launch()`.\n"
     ]
    },
    {
     "data": {
      "text/html": [
       "<div><iframe src=\"http://127.0.0.1:7860/\" width=\"100%\" height=\"500\" allow=\"autoplay; camera; microphone; clipboard-read; clipboard-write;\" frameborder=\"0\" allowfullscreen></iframe></div>"
      ],
      "text/plain": [
       "<IPython.core.display.HTML object>"
      ]
     },
     "metadata": {},
     "output_type": "display_data"
    },
    {
     "data": {
      "text/plain": []
     },
     "execution_count": 1,
     "metadata": {},
     "output_type": "execute_result"
    },
    {
     "name": "stdout",
     "output_type": "stream",
     "text": [
      "1/1 [==============================] - 0s 164ms/step\n"
     ]
    }
   ],
   "source": [
    "import tensorflow as tf\n",
    "from tensorflow.keras import datasets, layers, models\n",
    "import numpy as np\n",
    "import gradio as gr\n",
    "\n",
    "\n",
    "(X_train, Y_train), (X_test, Y_test) = datasets.cifar10.load_data()\n",
    "\n",
    "\n",
    "X_train = X_train.astype('float32') / 255.0\n",
    "X_test = X_test.astype('float32') / 255.0\n",
    "\n",
    "\n",
    "classes = [\"airplane\", \"automobile\", \"bird\", \"cat\", \"deer\", \"dog\", \"frog\", \"horse\", \"ship\", \"truck\"]\n",
    "\n",
    "\n",
    "cnn = models.Sequential([\n",
    "    layers.Conv2D(filters=32, kernel_size=(3, 3), activation='relu', input_shape=(32, 32, 3)),\n",
    "    layers.MaxPooling2D((2, 2)),\n",
    "    layers.Conv2D(filters=64, kernel_size=(3, 3), activation='relu'),\n",
    "    layers.MaxPooling2D((2, 2)),\n",
    "    layers.Flatten(),\n",
    "    layers.Dense(64, activation='relu'),\n",
    "    layers.Dense(10, activation='softmax')\n",
    "])\n",
    "\n",
    "\n",
    "cnn.compile(optimizer='adam',\n",
    "            loss='sparse_categorical_crossentropy',\n",
    "            metrics=['accuracy'])\n",
    "\n",
    "\n",
    "cnn.fit(X_train, Y_train, epochs=10, validation_data=(X_test, Y_test))\n",
    "\n",
    "\n",
    "def predict_image(image):\n",
    "    \n",
    "    image = image.astype('float32') / 255.0\n",
    "    image = np.expand_dims(image, axis=0)\n",
    "\n",
    "    \n",
    "    y_pred = cnn.predict(image)[0]\n",
    "\n",
    "\n",
    "    predicted_class = classes[np.argmax(y_pred)]\n",
    "\n",
    "    return predicted_class\n",
    "\n",
    "\n",
    "interface = gr.Interface(\n",
    "    fn=predict_image,\n",
    "    inputs=gr.inputs.Image(shape=(32, 32)),\n",
    "    outputs=gr.outputs.Textbox(),\n",
    "    live=True\n",
    ")\n",
    "\n",
    "\n",
    "interface.launch()\n"
   ]
  },
  {
   "cell_type": "code",
   "execution_count": null,
   "id": "4aeb0f58",
   "metadata": {},
   "outputs": [],
   "source": []
  }
 ],
 "metadata": {
  "kernelspec": {
   "display_name": "Python 3 (ipykernel)",
   "language": "python",
   "name": "python3"
  },
  "language_info": {
   "codemirror_mode": {
    "name": "ipython",
    "version": 3
   },
   "file_extension": ".py",
   "mimetype": "text/x-python",
   "name": "python",
   "nbconvert_exporter": "python",
   "pygments_lexer": "ipython3",
   "version": "3.9.13"
  }
 },
 "nbformat": 4,
 "nbformat_minor": 5
}
